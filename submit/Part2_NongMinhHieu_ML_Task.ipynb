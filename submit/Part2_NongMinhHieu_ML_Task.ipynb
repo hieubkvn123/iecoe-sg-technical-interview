{
 "cells": [
  {
   "cell_type": "markdown",
   "metadata": {},
   "source": [
    "# Importing libraries"
   ]
  },
  {
   "cell_type": "code",
   "execution_count": 15,
   "metadata": {},
   "outputs": [],
   "source": [
    "import re\n",
    "import os\n",
    "# import spacy\n",
    "import string\n",
    "import datetime\n",
    "import numpy as np\n",
    "import pandas as pd\n",
    "import matplotlib.pyplot as plt\n",
    "plt.style.use('seaborn-darkgrid')\n",
    "\n",
    "from nltk.corpus import stopwords  \n",
    "from nltk.tokenize import word_tokenize\n",
    "from nltk.stem import WordNetLemmatizer \n",
    "\n",
    "from sklearn.svm import SVC\n",
    "from sklearn.naive_bayes import GaussianNB\n",
    "from sklearn.feature_extraction.text import TfidfVectorizer\n",
    "from sklearn.feature_extraction.text import CountVectorizer\n",
    "from sklearn.model_selection import train_test_split\n",
    "from sklearn.metrics import accuracy_score, f1_score\n",
    "from xgboost import XGBClassifier\n",
    "\n",
    "# data file names\n",
    "fake_path = \"../data/Fake.csv\"\n",
    "true_path = \"../data/True.csv\""
   ]
  },
  {
   "cell_type": "code",
   "execution_count": null,
   "metadata": {},
   "outputs": [],
   "source": []
  },
  {
   "cell_type": "markdown",
   "metadata": {},
   "source": [
    "# I. Loading and exploring data"
   ]
  },
  {
   "cell_type": "code",
   "execution_count": 24,
   "metadata": {},
   "outputs": [],
   "source": [
    "# Sample data with each class taking 10000 instances\n",
    "df_fake = pd.read_csv(fake_path, header=0).sample(n=10000, random_state=np.random.randint(0,40000))\n",
    "df_true = pd.read_csv(true_path, header=0).sample(n=10000, random_state=np.random.randint(0,40000))"
   ]
  },
  {
   "cell_type": "code",
   "execution_count": 25,
   "metadata": {},
   "outputs": [
    {
     "data": {
      "text/html": [
       "<div>\n",
       "<style scoped>\n",
       "    .dataframe tbody tr th:only-of-type {\n",
       "        vertical-align: middle;\n",
       "    }\n",
       "\n",
       "    .dataframe tbody tr th {\n",
       "        vertical-align: top;\n",
       "    }\n",
       "\n",
       "    .dataframe thead th {\n",
       "        text-align: right;\n",
       "    }\n",
       "</style>\n",
       "<table border=\"1\" class=\"dataframe\">\n",
       "  <thead>\n",
       "    <tr style=\"text-align: right;\">\n",
       "      <th></th>\n",
       "      <th>title</th>\n",
       "      <th>text</th>\n",
       "      <th>subject</th>\n",
       "      <th>date</th>\n",
       "      <th>label</th>\n",
       "    </tr>\n",
       "  </thead>\n",
       "  <tbody>\n",
       "    <tr>\n",
       "      <th>0</th>\n",
       "      <td>Even Staunch Republican Ben Stein Says He’d S...</td>\n",
       "      <td>Conservatives are going to be seriously shocke...</td>\n",
       "      <td>News</td>\n",
       "      <td>March 2, 2016</td>\n",
       "      <td>0</td>\n",
       "    </tr>\n",
       "    <tr>\n",
       "      <th>1</th>\n",
       "      <td>White Supremacists Robocall For Trump Ahead O...</td>\n",
       "      <td>A Super PAC representing white nationalists is...</td>\n",
       "      <td>News</td>\n",
       "      <td>February 29, 2016</td>\n",
       "      <td>0</td>\n",
       "    </tr>\n",
       "    <tr>\n",
       "      <th>2</th>\n",
       "      <td>WHY Ugly HATE And DIVISION In America Is Actua...</td>\n",
       "      <td>This is Obama s legacy of hate and division, a...</td>\n",
       "      <td>left-news</td>\n",
       "      <td>Nov 11, 2016</td>\n",
       "      <td>0</td>\n",
       "    </tr>\n",
       "    <tr>\n",
       "      <th>3</th>\n",
       "      <td>The New American Century: An Era of Fraud</td>\n",
       "      <td>Paul Craig RobertsIn the last years of the 20t...</td>\n",
       "      <td>US_News</td>\n",
       "      <td>January 19, 2016</td>\n",
       "      <td>0</td>\n",
       "    </tr>\n",
       "    <tr>\n",
       "      <th>4</th>\n",
       "      <td>HOW OBAMA IS FORCING POOREST AMERICANS To Fend...</td>\n",
       "      <td>Is it any wonder Latino Americans are throwing...</td>\n",
       "      <td>politics</td>\n",
       "      <td>Mar 24, 2016</td>\n",
       "      <td>0</td>\n",
       "    </tr>\n",
       "    <tr>\n",
       "      <th>...</th>\n",
       "      <td>...</td>\n",
       "      <td>...</td>\n",
       "      <td>...</td>\n",
       "      <td>...</td>\n",
       "      <td>...</td>\n",
       "    </tr>\n",
       "    <tr>\n",
       "      <th>19995</th>\n",
       "      <td>Ex-U.S. Rep. Weiner sentenced to 21 months in ...</td>\n",
       "      <td>NEW YORK (Reuters) - Former U.S. Representativ...</td>\n",
       "      <td>politicsNews</td>\n",
       "      <td>September 25, 2017</td>\n",
       "      <td>1</td>\n",
       "    </tr>\n",
       "    <tr>\n",
       "      <th>19996</th>\n",
       "      <td>White House says Biden's visit is a good indic...</td>\n",
       "      <td>WASHINGTON (Reuters) - The White House on Thur...</td>\n",
       "      <td>politicsNews</td>\n",
       "      <td>April 28, 2016</td>\n",
       "      <td>1</td>\n",
       "    </tr>\n",
       "    <tr>\n",
       "      <th>19997</th>\n",
       "      <td>Hate speech seeps into U.S. mainstream amid bi...</td>\n",
       "      <td>KOKOMO, Indiana (Reuters) - The lettering is c...</td>\n",
       "      <td>politicsNews</td>\n",
       "      <td>November 7, 2016</td>\n",
       "      <td>1</td>\n",
       "    </tr>\n",
       "    <tr>\n",
       "      <th>19998</th>\n",
       "      <td>Florida lieutenant governor ends bid for Senat...</td>\n",
       "      <td>(Reuters) - Florida’s Republican lieutenant go...</td>\n",
       "      <td>politicsNews</td>\n",
       "      <td>June 22, 2016</td>\n",
       "      <td>1</td>\n",
       "    </tr>\n",
       "    <tr>\n",
       "      <th>19999</th>\n",
       "      <td>Cambodia deports 61 telecom extortion scam sus...</td>\n",
       "      <td>PHNOM PENH (Reuters) - Cambodia police on Satu...</td>\n",
       "      <td>worldnews</td>\n",
       "      <td>October 28, 2017</td>\n",
       "      <td>1</td>\n",
       "    </tr>\n",
       "  </tbody>\n",
       "</table>\n",
       "<p>20000 rows × 5 columns</p>\n",
       "</div>"
      ],
      "text/plain": [
       "                                                   title  \\\n",
       "0       Even Staunch Republican Ben Stein Says He’d S...   \n",
       "1       White Supremacists Robocall For Trump Ahead O...   \n",
       "2      WHY Ugly HATE And DIVISION In America Is Actua...   \n",
       "3              The New American Century: An Era of Fraud   \n",
       "4      HOW OBAMA IS FORCING POOREST AMERICANS To Fend...   \n",
       "...                                                  ...   \n",
       "19995  Ex-U.S. Rep. Weiner sentenced to 21 months in ...   \n",
       "19996  White House says Biden's visit is a good indic...   \n",
       "19997  Hate speech seeps into U.S. mainstream amid bi...   \n",
       "19998  Florida lieutenant governor ends bid for Senat...   \n",
       "19999  Cambodia deports 61 telecom extortion scam sus...   \n",
       "\n",
       "                                                    text       subject  \\\n",
       "0      Conservatives are going to be seriously shocke...          News   \n",
       "1      A Super PAC representing white nationalists is...          News   \n",
       "2      This is Obama s legacy of hate and division, a...     left-news   \n",
       "3      Paul Craig RobertsIn the last years of the 20t...       US_News   \n",
       "4      Is it any wonder Latino Americans are throwing...      politics   \n",
       "...                                                  ...           ...   \n",
       "19995  NEW YORK (Reuters) - Former U.S. Representativ...  politicsNews   \n",
       "19996  WASHINGTON (Reuters) - The White House on Thur...  politicsNews   \n",
       "19997  KOKOMO, Indiana (Reuters) - The lettering is c...  politicsNews   \n",
       "19998  (Reuters) - Florida’s Republican lieutenant go...  politicsNews   \n",
       "19999  PHNOM PENH (Reuters) - Cambodia police on Satu...     worldnews   \n",
       "\n",
       "                      date  label  \n",
       "0            March 2, 2016      0  \n",
       "1        February 29, 2016      0  \n",
       "2             Nov 11, 2016      0  \n",
       "3         January 19, 2016      0  \n",
       "4             Mar 24, 2016      0  \n",
       "...                    ...    ...  \n",
       "19995  September 25, 2017       1  \n",
       "19996      April 28, 2016       1  \n",
       "19997    November 7, 2016       1  \n",
       "19998       June 22, 2016       1  \n",
       "19999    October 28, 2017       1  \n",
       "\n",
       "[20000 rows x 5 columns]"
      ]
     },
     "execution_count": 25,
     "metadata": {},
     "output_type": "execute_result"
    }
   ],
   "source": [
    "# Concatenate the two data frames \n",
    "df_fake['label'] = 0\n",
    "df_true['label'] = 1\n",
    "\n",
    "df = pd.concat([df_fake, df_true])\n",
    "df.index = list(range(len(df.index))) # re-index the dataframe\n",
    "df # print out the data frame"
   ]
  },
  {
   "cell_type": "markdown",
   "metadata": {},
   "source": [
    "# II. Exploratory Data Analysis and Data Cleaning"
   ]
  },
  {
   "cell_type": "code",
   "execution_count": 26,
   "metadata": {},
   "outputs": [
    {
     "name": "stdout",
     "output_type": "stream",
     "text": [
      "[INFO] Data types by columns : \n",
      "<class 'pandas.core.frame.DataFrame'>\n",
      "Int64Index: 20000 entries, 0 to 19999\n",
      "Data columns (total 5 columns):\n",
      " #   Column   Non-Null Count  Dtype \n",
      "---  ------   --------------  ----- \n",
      " 0   title    20000 non-null  object\n",
      " 1   text     20000 non-null  object\n",
      " 2   subject  20000 non-null  object\n",
      " 3   date     20000 non-null  object\n",
      " 4   label    20000 non-null  int64 \n",
      "dtypes: int64(1), object(4)\n",
      "memory usage: 937.5+ KB\n"
     ]
    }
   ],
   "source": [
    "print(\"[INFO] Data types by columns : \")\n",
    "df.info()"
   ]
  },
  {
   "cell_type": "code",
   "execution_count": 27,
   "metadata": {},
   "outputs": [
    {
     "name": "stdout",
     "output_type": "stream",
     "text": [
      "[INFO] 58 duplicate rows dropped ...\n"
     ]
    }
   ],
   "source": [
    "# Dropping duplicates and re-indexing\n",
    "original_row_count = len(df.index)\n",
    "df = df.drop_duplicates()\n",
    "df = df.reset_index(drop=True)\n",
    "\n",
    "new_row_count = len(df.index)\n",
    "print(f'[INFO] {original_row_count - new_row_count} duplicate rows dropped ...')"
   ]
  },
  {
   "cell_type": "markdown",
   "metadata": {},
   "source": [
    "### We can see that some date strings do not satisfy the format \"%B %d, %Y\" "
   ]
  },
  {
   "cell_type": "code",
   "execution_count": 28,
   "metadata": {},
   "outputs": [
    {
     "name": "stdout",
     "output_type": "stream",
     "text": [
      "[INFO] Number of invalid date strings : 907\n"
     ]
    }
   ],
   "source": [
    "format_ = \"%B %d, %Y\" # E.g : April 04, 2020\n",
    "num_invalids = 0\n",
    "\n",
    "df['date'] = df['date'].apply(lambda x : x.strip())\n",
    "for _date in np.unique(df['date']):\n",
    "    try:\n",
    "        datetime.datetime.strptime(_date, format_)\n",
    "    except:\n",
    "        num_invalids += 1\n",
    "        \n",
    "print(f\"[INFO] Number of invalid date strings : {num_invalids}\")"
   ]
  },
  {
   "cell_type": "code",
   "execution_count": 29,
   "metadata": {},
   "outputs": [
    {
     "name": "stdout",
     "output_type": "stream",
     "text": [
      "[INFO] Number of invalid date strings : 66\n"
     ]
    }
   ],
   "source": [
    "# Replace month strings with their full forms\n",
    "num_invalids = 0\n",
    "\n",
    "short_forms = [\"Jan \", \"Feb \", \"Mar \", \"Apr \", \"May \", \"Jun \", \"Jul \", \"Aug \", \"Sep \", \"Oct \", \"Nov \", \"Dec \"]\n",
    "full_forms  = [\"January \", \"Febuary \", \"March \", \"April \", \"May \", \"June \", \"July \", \"August \", \"September \", \n",
    "               \"October \", \"November \", \"December \"]\n",
    "\n",
    "for i in range(len(short_forms)):\n",
    "    df['date'] = df['date'].str.replace(short_forms[i], full_forms[i])\n",
    "    \n",
    "# Check again which date strings are still unclean\n",
    "for _date in np.unique(df['date']):\n",
    "    try:\n",
    "        datetime.datetime.strptime(_date, format_)\n",
    "    except:\n",
    "        num_invalids += 1\n",
    "        \n",
    "print(f\"[INFO] Number of invalid date strings : {num_invalids}\")"
   ]
  },
  {
   "cell_type": "code",
   "execution_count": 30,
   "metadata": {},
   "outputs": [
    {
     "name": "stdout",
     "output_type": "stream",
     "text": [
      "[INFO] Number of invalid date strings : 9\n"
     ]
    }
   ],
   "source": [
    "# Replace 'Febuary' with \"Frebuary\"\n",
    "num_invalids = 0\n",
    "df['date'] = df['date'].str.replace(\"Febuary\", \"February\")\n",
    "\n",
    "# Check again which date strings are still unclean\n",
    "for _date in np.unique(df['date']):\n",
    "    try:\n",
    "        datetime.datetime.strptime(_date, format_)\n",
    "    except:\n",
    "        num_invalids += 1\n",
    "        \n",
    "print(f\"[INFO] Number of invalid date strings : {num_invalids}\")"
   ]
  },
  {
   "cell_type": "code",
   "execution_count": 31,
   "metadata": {},
   "outputs": [
    {
     "name": "stdout",
     "output_type": "stream",
     "text": [
      "[INFO] Number of invalid date strings : 4\n"
     ]
    }
   ],
   "source": [
    "# Convert format '%d-%B-%y' to '%B %d, %Y'\n",
    "num_invalids = 0\n",
    "df['date'] = df['date'].apply(lambda x : x.replace('Feb-', 'February-'))\n",
    "\n",
    "for _date in np.unique(df['date']):\n",
    "    try:\n",
    "        old = datetime.datetime.strptime(_date, '%d-%B-%y')\n",
    "        new = old.strftime(format_)\n",
    "        df['date'] = df['date'].str.replace(_date, new)\n",
    "    except : pass\n",
    "    \n",
    "# Check again which date strings are still unclean\n",
    "for _date in np.unique(df['date']):\n",
    "    try:\n",
    "        datetime.datetime.strptime(_date, format_)\n",
    "    except:\n",
    "        num_invalids += 1\n",
    "        \n",
    "print(f\"[INFO] Number of invalid date strings : {num_invalids}\")"
   ]
  },
  {
   "cell_type": "markdown",
   "metadata": {},
   "source": [
    "### Now that most of the rows satisfies the date format, drop the remaining rows"
   ]
  },
  {
   "cell_type": "code",
   "execution_count": 32,
   "metadata": {},
   "outputs": [
    {
     "name": "stdout",
     "output_type": "stream",
     "text": [
      "[INFO] 5 invalid rows dropped ...\n",
      "[INFO] Number of invalid date strings : 0\n"
     ]
    }
   ],
   "source": [
    "num_invalids = 0\n",
    "def is_valid(date_string):\n",
    "    try:\n",
    "        datetime.datetime.strptime(date_string, format_)\n",
    "        return True\n",
    "    except:\n",
    "        return \n",
    "    \n",
    "original_row_count = len(df.index)\n",
    "df['date'] = df['date'].apply(lambda x : np.nan if not is_valid(x) else x)\n",
    "df = df.dropna()\n",
    "new_row_count = len(df.index)\n",
    "\n",
    "print(f'[INFO] {original_row_count - new_row_count} invalid rows dropped ...')\n",
    "\n",
    "# Check again which date strings are still unclean\n",
    "for _date in np.unique(df['date']):\n",
    "    try:\n",
    "        datetime.datetime.strptime(_date, format_)\n",
    "    except:\n",
    "        num_invalids += 1\n",
    "        \n",
    "print(f\"[INFO] Number of invalid date strings : {num_invalids}\")"
   ]
  },
  {
   "cell_type": "markdown",
   "metadata": {},
   "source": [
    "### I assume that politics and politicsNews are the same type so I will merge them"
   ]
  },
  {
   "cell_type": "code",
   "execution_count": 33,
   "metadata": {},
   "outputs": [
    {
     "name": "stdout",
     "output_type": "stream",
     "text": [
      "['Government News' 'Middle-east' 'News' 'US_News' 'left-news' 'politics'\n",
      " 'politicsNews' 'worldnews']\n"
     ]
    }
   ],
   "source": [
    "print(np.unique(df['subject'].values))"
   ]
  },
  {
   "cell_type": "code",
   "execution_count": 34,
   "metadata": {},
   "outputs": [
    {
     "name": "stdout",
     "output_type": "stream",
     "text": [
      "['Government News' 'Middle-east' 'News' 'US_News' 'left-news' 'politics'\n",
      " 'worldnews']\n"
     ]
    }
   ],
   "source": [
    "df['subject'] = df['subject'].str.replace(\"politicsNews\", \"politics\")\n",
    "print(np.unique(df['subject'].values))"
   ]
  },
  {
   "cell_type": "markdown",
   "metadata": {},
   "source": [
    "### Display frequencies of fake and real news by months\n",
    "* Key findings :\n",
    "    - The wave of fake news started its rise in late 2015 and continue to remain high until April 2017 when\n",
    "    fake news started to decrease\n",
    "    - In the same time, shortly after April 2017, the amount of real news skyrocketed indicating improvement in\n",
    "    fake news sensorship"
   ]
  },
  {
   "cell_type": "code",
   "execution_count": 35,
   "metadata": {},
   "outputs": [
    {
     "data": {
      "image/png": "[encoded data removed]",
      "text/plain": [
       "<Figure size 1080x360 with 2 Axes>"
      ]
     },
     "metadata": {},
     "output_type": "display_data"
    }
   ],
   "source": [
    "def split_date_to_month(date):\n",
    "    d = datetime.datetime.strptime(date, format_)\n",
    "    month = str(d.month).zfill(2)\n",
    "    year  = str(d.year)\n",
    "    \n",
    "    return year + \"-\" + month\n",
    "\n",
    "fig, ax = plt.subplots(2, 1, figsize=(15, 5))\n",
    "df['month'] = df['date'].apply(lambda x : split_date_to_month(x))\n",
    "fake_count = df[df['label'] == 0].groupby('month').count()\n",
    "real_count = df[df['label'] == 1].groupby('month').count()\n",
    "\n",
    "ax[0].plot(fake_count['label'], color='blue', linewidth=2)\n",
    "ax[0].tick_params(rotation=45)\n",
    "ax[0].axvline(25, color='red', label='Fake news started decreasing', linestyle=\"--\")\n",
    "ax[0].set_title(\"Fake news frequency\")\n",
    "ax[0].legend()\n",
    "\n",
    "ax[1].plot(real_count['label'], color='blue', linewidth=2)\n",
    "ax[1].tick_params(rotation=45)\n",
    "ax[1].axvline(15, color='red', label='Fake news started decreasing', linestyle=\"--\")\n",
    "ax[1].set_title(\"Real news frequency\")\n",
    "ax[1].legend()\n",
    "\n",
    "plt.subplots_adjust(top=2.5)\n",
    "plt.show()"
   ]
  },
  {
   "cell_type": "markdown",
   "metadata": {},
   "source": [
    "### Fake news frequency by subject\n",
    "* Key findings :\n",
    "    1. The most faked types of news include \"News\", \"politics\", \"left-news\"\n",
    "    2. Less faked types of news are \"Middle-east\", \"US_News\" and \"Government News\"\n",
    "    3. This can be attributed as a feature in model training"
   ]
  },
  {
   "cell_type": "code",
   "execution_count": 36,
   "metadata": {},
   "outputs": [
    {
     "data": {
      "image/png": "[encoded data removed]",
      "text/plain": [
       "<Figure size 432x288 with 1 Axes>"
      ]
     },
     "metadata": {},
     "output_type": "display_data"
    }
   ],
   "source": [
    "fake = df[df['label'] == 0]\n",
    "fake_by_subjects = fake.groupby('subject').count()['label']\n",
    "\n",
    "freq = fake_by_subjects.values\n",
    "\n",
    "# Sort both subjects and frequency values by values\n",
    "freq = fake_by_subjects.values[np.argsort(fake_by_subjects.values)]\n",
    "subjects = fake_by_subjects.index[np.argsort(fake_by_subjects.values)]\n",
    "\n",
    "plt.bar(subjects, freq)\n",
    "plt.xticks(rotation=90)\n",
    "plt.show()"
   ]
  },
  {
   "cell_type": "markdown",
   "metadata": {},
   "source": [
    "# III. Text data cleaning and exploration\n",
    "* Reference : \n",
    "    https://www.analyticsvidhya.com/blog/2020/04/beginners-guide-exploratory-data-analysis-text-data"
   ]
  },
  {
   "cell_type": "markdown",
   "metadata": {},
   "source": [
    "## 1. Expand contraction\n",
    "    * Expanding contracted forms like we're -> we are, I've -> I have"
   ]
  },
  {
   "cell_type": "code",
   "execution_count": 37,
   "metadata": {},
   "outputs": [
    {
     "name": "stdout",
     "output_type": "stream",
     "text": [
      "[INFO] Expanding contraction ... \n",
      "[INFO] Done!\n"
     ]
    }
   ],
   "source": [
    "# Dictionary of English Contractions\n",
    "contractions_dict = { \"ain't\": \"are not\",\"'s\":\" is\",\"aren't\": \"are not\",\n",
    "                     \"can't\": \"cannot\",\"can't've\": \"cannot have\",\n",
    "                     \"'cause\": \"because\",\"could've\": \"could have\",\"couldn't\": \"could not\",\n",
    "                     \"couldn't've\": \"could not have\", \"didn't\": \"did not\",\"doesn't\": \"does not\",\n",
    "                     \"don't\": \"do not\",\"hadn't\": \"had not\",\"hadn't've\": \"had not have\",\n",
    "                     \"hasn't\": \"has not\",\"haven't\": \"have not\",\"he'd\": \"he would\",\n",
    "                     \"he'd've\": \"he would have\",\"he'll\": \"he will\", \"he'll've\": \"he will have\",\n",
    "                     \"how'd\": \"how did\",\"how'd'y\": \"how do you\",\"how'll\": \"how will\",\n",
    "                     \"I'd\": \"I would\", \"I'd've\": \"I would have\",\"I'll\": \"I will\",\n",
    "                     \"I'll've\": \"I will have\",\"I'm\": \"I am\",\"I've\": \"I have\", \"isn't\": \"is not\",\n",
    "                     \"it'd\": \"it would\",\"it'd've\": \"it would have\",\"it'll\": \"it will\",\n",
    "                     \"it'll've\": \"it will have\", \"let's\": \"let us\",\"ma'am\": \"madam\",\n",
    "                     \"mayn't\": \"may not\",\"might've\": \"might have\",\"mightn't\": \"might not\", \n",
    "                     \"mightn't've\": \"might not have\",\"must've\": \"must have\",\"mustn't\": \"must not\",\n",
    "                     \"mustn't've\": \"must not have\", \"needn't\": \"need not\",\n",
    "                     \"needn't've\": \"need not have\",\"o'clock\": \"of the clock\",\"oughtn't\": \"ought not\",\n",
    "                     \"oughtn't've\": \"ought not have\",\"shan't\": \"shall not\",\"sha'n't\": \"shall not\",\n",
    "                     \"shan't've\": \"shall not have\",\"she'd\": \"she would\",\"she'd've\": \"she would have\",\n",
    "                     \"she'll\": \"she will\", \"she'll've\": \"she will have\",\"should've\": \"should have\",\n",
    "                     \"shouldn't\": \"should not\", \"shouldn't've\": \"should not have\",\"so've\": \"so have\",\n",
    "                     \"that'd\": \"that would\",\"that'd've\": \"that would have\", \"there'd\": \"there would\",\n",
    "                     \"there'd've\": \"there would have\", \"they'd\": \"they would\",\n",
    "                     \"they'd've\": \"they would have\",\"they'll\": \"they will\",\n",
    "                     \"they'll've\": \"they will have\", \"they're\": \"they are\",\"they've\": \"they have\",\n",
    "                     \"to've\": \"to have\",\"wasn't\": \"was not\",\"we'd\": \"we would\",\n",
    "                     \"we'd've\": \"we would have\",\"we'll\": \"we will\",\"we'll've\": \"we will have\",\n",
    "                     \"we're\": \"we are\",\"we've\": \"we have\", \"weren't\": \"were not\",\"what'll\": \"what will\",\n",
    "                     \"what'll've\": \"what will have\",\"what're\": \"what are\", \"what've\": \"what have\",\n",
    "                     \"when've\": \"when have\",\"where'd\": \"where did\", \"where've\": \"where have\",\n",
    "                     \"who'll\": \"who will\",\"who'll've\": \"who will have\",\"who've\": \"who have\",\n",
    "                     \"why've\": \"why have\",\"will've\": \"will have\",\"won't\": \"will not\",\n",
    "                     \"won't've\": \"will not have\", \"would've\": \"would have\",\"wouldn't\": \"would not\",\n",
    "                     \"wouldn't've\": \"would not have\",\"y'all\": \"you all\", \"y'all'd\": \"you all would\",\n",
    "                     \"y'all'd've\": \"you all would have\",\"y'all're\": \"you all are\",\n",
    "                     \"y'all've\": \"you all have\", \"you'd\": \"you would\",\"you'd've\": \"you would have\",\n",
    "                     \"you'll\": \"you will\",\"you'll've\": \"you will have\", \"you're\": \"you are\",\n",
    "                     \"you've\": \"you have\"}\n",
    "\n",
    "# Regular expression for finding contractions\n",
    "contractions_re=re.compile('(%s)' % '|'.join(contractions_dict.keys()))\n",
    "\n",
    "# Function for expanding contractions\n",
    "def expand_contractions(text,contractions_dict=contractions_dict):\n",
    "    def replace(match):\n",
    "        return contractions_dict[match.group(0)]\n",
    "    return contractions_re.sub(replace, text)\n",
    "\n",
    "print(\"[INFO] Expanding contraction ... \")\n",
    "df['title'] = df['title'].apply(lambda x : expand_contractions(x))\n",
    "df['text'] = df['text'].apply(lambda x : expand_contractions(x))\n",
    "print(\"[INFO] Done!\")"
   ]
  },
  {
   "cell_type": "markdown",
   "metadata": {},
   "source": [
    "## 2. Lowercasing text"
   ]
  },
  {
   "cell_type": "code",
   "execution_count": 38,
   "metadata": {},
   "outputs": [
    {
     "name": "stdout",
     "output_type": "stream",
     "text": [
      "[INFO] Lowercasing text ... \n",
      "[INFO] Done!\n"
     ]
    }
   ],
   "source": [
    "print('[INFO] Lowercasing text ... ')\n",
    "df['title'] = df['title'].apply(lambda x : x.lower())\n",
    "df['text'] = df['text'].apply(lambda x : x.lower())\n",
    "print('[INFO] Done!')"
   ]
  },
  {
   "cell_type": "markdown",
   "metadata": {},
   "source": [
    "## 3. Removing digits "
   ]
  },
  {
   "cell_type": "code",
   "execution_count": 39,
   "metadata": {},
   "outputs": [
    {
     "name": "stdout",
     "output_type": "stream",
     "text": [
      "[INFO] Removing digits ... \n",
      "[INFO] Done!\n"
     ]
    }
   ],
   "source": [
    "print('[INFO] Removing digits ... ')\n",
    "df['title']=df['title'].apply(lambda x: re.sub('\\w*\\d\\w*','', x))\n",
    "df['text']=df['text'].apply(lambda x: re.sub('\\w*\\d\\w*','', x))\n",
    "print('[INFO] Done!')"
   ]
  },
  {
   "cell_type": "markdown",
   "metadata": {},
   "source": [
    "## 4. Removing punctuations \n",
    "* Removing characters like '!', '#', '@', ..."
   ]
  },
  {
   "cell_type": "code",
   "execution_count": 40,
   "metadata": {},
   "outputs": [
    {
     "name": "stdout",
     "output_type": "stream",
     "text": [
      "[INFO] Removing punctuations ... \n",
      "[INFO] Done!\n"
     ]
    }
   ],
   "source": [
    "print('[INFO] Removing punctuations ... ')\n",
    "df['title']=df['title'].apply(lambda x: re.sub('[%s]' % re.escape(string.punctuation), '', x))\n",
    "df['text']=df['text'].apply(lambda x: re.sub('[%s]' % re.escape(string.punctuation), '', x))\n",
    "print('[INFO] Done!')"
   ]
  },
  {
   "cell_type": "code",
   "execution_count": 41,
   "metadata": {},
   "outputs": [
    {
     "name": "stdout",
     "output_type": "stream",
     "text": [
      "[INFO] Removing extra spaces ...\n",
      "[INFO] Done!\n"
     ]
    }
   ],
   "source": [
    "print('[INFO] Removing extra spaces ...')\n",
    "df['title']=df['title'].apply(lambda x: re.sub(' +',' ',x))\n",
    "df['text']=df['text'].apply(lambda x: re.sub(' +',' ',x))\n",
    "print('[INFO] Done!')"
   ]
  },
  {
   "cell_type": "markdown",
   "metadata": {},
   "source": [
    "## 5. Stop words removal and lemmatization\n",
    "* Stopword removal : Removing stop words like \"to\", \"as\", \"if\", ...\n",
    "* Lemmatization    : Reducing words to its based form, e.g : men -> man, departed -> depart, ..."
   ]
  },
  {
   "cell_type": "code",
   "execution_count": 42,
   "metadata": {},
   "outputs": [
    {
     "name": "stdout",
     "output_type": "stream",
     "text": [
      "[INFO] Removing stop words and lemmatizing ... \n",
      "[INFO] Done!\n"
     ]
    }
   ],
   "source": [
    "### Stopword removal using the nltk way ###\n",
    "stop_words = set(stopwords.words('english')) # Assuming all nltk data is installed\n",
    "lemmatizer = WordNetLemmatizer()\n",
    "\n",
    "def filter_stopwords(text):\n",
    "    word_tokens = word_tokenize(text)\n",
    "    filtered = [lemmatizer.lemmatize(w) for w in word_tokens if not w in stop_words]\n",
    "    \n",
    "    filtered_sentence = ' '.join(filtered)\n",
    "    return filtered_sentence\n",
    "\n",
    "print('[INFO] Removing stop words and lemmatizing ... ')\n",
    "df['title'] = df['title'].apply(lambda x : filter_stopwords(x))\n",
    "df['text'] = df['text'].apply(lambda x : filter_stopwords(x))\n",
    "print('[INFO] Done!')\n",
    "\n",
    "\n",
    "### Stopword removal and lemmatization using spacy ###\n",
    "#print('[INFO] Removing stop words and lemmatizing ... ')\n",
    "\n",
    "# download model en_core_web_sm model with python3 -m spacy download en_core_web_sm \n",
    "#model = spacy.load('en_core_web_sm',disable=['parser', 'ner'])\n",
    "#df['title']=df['title'].apply(lambda x: ' '.join([token.lemma_ for token in list(model(x)) if (token.is_stop==False)]))\n",
    "#df['text']=df['text'].apply(lambda x: ' '.join([token.lemma_ for token in list(model(x)) if (token.is_stop==False)]))\n",
    "\n",
    "#print('[INFO] Done!')"
   ]
  },
  {
   "cell_type": "code",
   "execution_count": 43,
   "metadata": {},
   "outputs": [
    {
     "name": "stdout",
     "output_type": "stream",
     "text": [
      "[INFO] Data Frame after cleaning ... \n"
     ]
    },
    {
     "data": {
      "text/html": [
       "<div>\n",
       "<style scoped>\n",
       "    .dataframe tbody tr th:only-of-type {\n",
       "        vertical-align: middle;\n",
       "    }\n",
       "\n",
       "    .dataframe tbody tr th {\n",
       "        vertical-align: top;\n",
       "    }\n",
       "\n",
       "    .dataframe thead th {\n",
       "        text-align: right;\n",
       "    }\n",
       "</style>\n",
       "<table border=\"1\" class=\"dataframe\">\n",
       "  <thead>\n",
       "    <tr style=\"text-align: right;\">\n",
       "      <th></th>\n",
       "      <th>title</th>\n",
       "      <th>text</th>\n",
       "      <th>subject</th>\n",
       "      <th>date</th>\n",
       "      <th>label</th>\n",
       "      <th>month</th>\n",
       "    </tr>\n",
       "  </thead>\n",
       "  <tbody>\n",
       "    <tr>\n",
       "      <th>0</th>\n",
       "      <td>even staunch republican ben stein say ’ suppor...</td>\n",
       "      <td>conservative going seriously shocked oneben st...</td>\n",
       "      <td>News</td>\n",
       "      <td>March 2, 2016</td>\n",
       "      <td>0</td>\n",
       "      <td>2016-03</td>\n",
       "    </tr>\n",
       "    <tr>\n",
       "      <th>1</th>\n",
       "      <td>white supremacist robocall trump ahead super t...</td>\n",
       "      <td>super pac representing white nationalist roboc...</td>\n",
       "      <td>News</td>\n",
       "      <td>February 29, 2016</td>\n",
       "      <td>0</td>\n",
       "      <td>2016-02</td>\n",
       "    </tr>\n",
       "    <tr>\n",
       "      <th>2</th>\n",
       "      <td>ugly hate division america actually obama ’ fa...</td>\n",
       "      <td>obama legacy hate division acceptable use stro...</td>\n",
       "      <td>left-news</td>\n",
       "      <td>November 11, 2016</td>\n",
       "      <td>0</td>\n",
       "      <td>2016-11</td>\n",
       "    </tr>\n",
       "    <tr>\n",
       "      <th>3</th>\n",
       "      <td>new american century era fraud</td>\n",
       "      <td>paul craig robertsin last year century fraud e...</td>\n",
       "      <td>US_News</td>\n",
       "      <td>January 19, 2016</td>\n",
       "      <td>0</td>\n",
       "      <td>2016-01</td>\n",
       "    </tr>\n",
       "    <tr>\n",
       "      <th>4</th>\n",
       "      <td>obama forcing poorest american fend dangerous ...</td>\n",
       "      <td>wonder latino american throwing support behind...</td>\n",
       "      <td>politics</td>\n",
       "      <td>March 24, 2016</td>\n",
       "      <td>0</td>\n",
       "      <td>2016-03</td>\n",
       "    </tr>\n",
       "    <tr>\n",
       "      <th>...</th>\n",
       "      <td>...</td>\n",
       "      <td>...</td>\n",
       "      <td>...</td>\n",
       "      <td>...</td>\n",
       "      <td>...</td>\n",
       "      <td>...</td>\n",
       "    </tr>\n",
       "    <tr>\n",
       "      <th>19937</th>\n",
       "      <td>exus rep weiner sentenced month teen isexting ...</td>\n",
       "      <td>new york reuters former u representative antho...</td>\n",
       "      <td>politics</td>\n",
       "      <td>September 25, 2017</td>\n",
       "      <td>1</td>\n",
       "      <td>2017-09</td>\n",
       "    </tr>\n",
       "    <tr>\n",
       "      <th>19938</th>\n",
       "      <td>white house say biden visit good indication u ...</td>\n",
       "      <td>washington reuters white house thursday said v...</td>\n",
       "      <td>politics</td>\n",
       "      <td>April 28, 2016</td>\n",
       "      <td>1</td>\n",
       "      <td>2016-04</td>\n",
       "    </tr>\n",
       "    <tr>\n",
       "      <th>19939</th>\n",
       "      <td>hate speech seeps u mainstream amid bitter cam...</td>\n",
       "      <td>kokomo indiana reuters lettering crude scrawle...</td>\n",
       "      <td>politics</td>\n",
       "      <td>November 7, 2016</td>\n",
       "      <td>1</td>\n",
       "      <td>2016-11</td>\n",
       "    </tr>\n",
       "    <tr>\n",
       "      <th>19940</th>\n",
       "      <td>florida lieutenant governor end bid senate seat</td>\n",
       "      <td>reuters florida ’ republican lieutenant govern...</td>\n",
       "      <td>politics</td>\n",
       "      <td>June 22, 2016</td>\n",
       "      <td>1</td>\n",
       "      <td>2016-06</td>\n",
       "    </tr>\n",
       "    <tr>\n",
       "      <th>19941</th>\n",
       "      <td>cambodia deports telecom extortion scam suspect</td>\n",
       "      <td>phnom penh reuters cambodia police saturday de...</td>\n",
       "      <td>worldnews</td>\n",
       "      <td>October 28, 2017</td>\n",
       "      <td>1</td>\n",
       "      <td>2017-10</td>\n",
       "    </tr>\n",
       "  </tbody>\n",
       "</table>\n",
       "<p>19937 rows × 6 columns</p>\n",
       "</div>"
      ],
      "text/plain": [
       "                                                   title  \\\n",
       "0      even staunch republican ben stein say ’ suppor...   \n",
       "1      white supremacist robocall trump ahead super t...   \n",
       "2      ugly hate division america actually obama ’ fa...   \n",
       "3                         new american century era fraud   \n",
       "4      obama forcing poorest american fend dangerous ...   \n",
       "...                                                  ...   \n",
       "19937  exus rep weiner sentenced month teen isexting ...   \n",
       "19938  white house say biden visit good indication u ...   \n",
       "19939  hate speech seeps u mainstream amid bitter cam...   \n",
       "19940    florida lieutenant governor end bid senate seat   \n",
       "19941    cambodia deports telecom extortion scam suspect   \n",
       "\n",
       "                                                    text    subject  \\\n",
       "0      conservative going seriously shocked oneben st...       News   \n",
       "1      super pac representing white nationalist roboc...       News   \n",
       "2      obama legacy hate division acceptable use stro...  left-news   \n",
       "3      paul craig robertsin last year century fraud e...    US_News   \n",
       "4      wonder latino american throwing support behind...   politics   \n",
       "...                                                  ...        ...   \n",
       "19937  new york reuters former u representative antho...   politics   \n",
       "19938  washington reuters white house thursday said v...   politics   \n",
       "19939  kokomo indiana reuters lettering crude scrawle...   politics   \n",
       "19940  reuters florida ’ republican lieutenant govern...   politics   \n",
       "19941  phnom penh reuters cambodia police saturday de...  worldnews   \n",
       "\n",
       "                     date  label    month  \n",
       "0           March 2, 2016      0  2016-03  \n",
       "1       February 29, 2016      0  2016-02  \n",
       "2       November 11, 2016      0  2016-11  \n",
       "3        January 19, 2016      0  2016-01  \n",
       "4          March 24, 2016      0  2016-03  \n",
       "...                   ...    ...      ...  \n",
       "19937  September 25, 2017      1  2017-09  \n",
       "19938      April 28, 2016      1  2016-04  \n",
       "19939    November 7, 2016      1  2016-11  \n",
       "19940       June 22, 2016      1  2016-06  \n",
       "19941    October 28, 2017      1  2017-10  \n",
       "\n",
       "[19937 rows x 6 columns]"
      ]
     },
     "execution_count": 43,
     "metadata": {},
     "output_type": "execute_result"
    }
   ],
   "source": [
    "print('[INFO] Data Frame after cleaning ... ')\n",
    "df"
   ]
  },
  {
   "cell_type": "code",
   "execution_count": 44,
   "metadata": {},
   "outputs": [
    {
     "name": "stdout",
     "output_type": "stream",
     "text": [
      "[INFO] Storing final data ...\n"
     ]
    }
   ],
   "source": [
    "print('[INFO] Storing final data ...')\n",
    "df.to_pickle(\"df_final.gzip\")"
   ]
  },
  {
   "cell_type": "markdown",
   "metadata": {},
   "source": [
    "# IV. Text data vectorization\n",
    "* Comparation between Bag-of-words and TF-IDF (Not using BERT or pretrained embedding models for simplicity).\n",
    "* Train the same Linear SVC model on two feature sets : Bag-of-words and TF-IDF\n",
    "    to compare which feature set facilitates separating two classes better. \n",
    "* It appears that Bag-of-words gives slightly better results every time. However, Bag-of-words has some drawbacks :\n",
    "  - Since the vectorizer converts sentences to vectors of fixed size, when new data has new words, this will cause the vectors to resize and we have to modify the classification model.\n",
    "  - The vectors will have a lot of 0s in them, creating sparsity in the features set."
   ]
  },
  {
   "cell_type": "code",
   "execution_count": 4,
   "metadata": {},
   "outputs": [],
   "source": [
    "# Reload from check point if existed\n",
    "if(os.path.exists(\"df_final.gzip\")):\n",
    "    df = pd.read_pickle(\"df_final.gzip\")"
   ]
  },
  {
   "cell_type": "code",
   "execution_count": 5,
   "metadata": {},
   "outputs": [],
   "source": [
    "features_tf_idf = TfidfVectorizer().fit_transform(df['title'])\n",
    "features_bow    = CountVectorizer().fit_transform(df['title'])\n",
    "targets = df['label']"
   ]
  },
  {
   "cell_type": "code",
   "execution_count": 6,
   "metadata": {},
   "outputs": [
    {
     "name": "stdout",
     "output_type": "stream",
     "text": [
      "[INFO] Training SVM model on TF-IDF features ... \n",
      "[INFO] Training SVM model on Bag-of-words features ...\n",
      "------------------------------------------------------\n",
      "[INFO] Sampling and validating models, round #1 ...\n",
      "[INFO] Sampling and validating models, round #2 ...\n",
      "[INFO] Sampling and validating models, round #3 ...\n",
      "[INFO] Sampling and validating models, round #4 ...\n",
      "[INFO] Sampling and validating models, round #5 ...\n",
      "[INFO] Sampling and validating models, round #6 ...\n",
      "[INFO] Sampling and validating models, round #7 ...\n",
      "[INFO] Sampling and validating models, round #8 ...\n",
      "[INFO] Sampling and validating models, round #9 ...\n",
      "[INFO] Sampling and validating models, round #10 ...\n"
     ]
    },
    {
     "data": {
      "image/png": "[encoded data removed]",
      "text/plain": [
       "<Figure size 720x360 with 1 Axes>"
      ]
     },
     "metadata": {},
     "output_type": "display_data"
    }
   ],
   "source": [
    "accuracies_tf_idf = []\n",
    "accuracies_bow    = []\n",
    "\n",
    "model_tf_idf = SVC(kernel='linear', C=1.0)\n",
    "model_bow    = SVC(kernel='linear', C=1.0)\n",
    "\n",
    "print('[INFO] Training SVM model on TF-IDF features ... ')\n",
    "X_train, X_test, Y_train, Y_test = train_test_split(features_tf_idf, targets, test_size=0.333, random_state=40000)\n",
    "model_tf_idf.fit(X_train, Y_train)\n",
    "\n",
    "print('[INFO] Training SVM model on Bag-of-words features ...')\n",
    "X_train, X_test, Y_train, Y_test = train_test_split(features_bow, targets, test_size=0.333, random_state=40000)\n",
    "model_bow.fit(X_train, Y_train)\n",
    "\n",
    "print('------------------------------------------------------')\n",
    "for i in range(10):\n",
    "    print(f'[INFO] Sampling and validating models, round #{i+1} ...')    \n",
    "    X_train, X_test, Y_train, Y_test = train_test_split(features_tf_idf, targets, test_size=0.333, shuffle=True)\n",
    "    predictions = model_tf_idf.predict(X_test)\n",
    "    accuracy = accuracy_score(predictions, Y_test)\n",
    "    accuracies_tf_idf.append(accuracy)\n",
    "    \n",
    "    X_train, X_test, Y_train, Y_test = train_test_split(features_bow, targets, test_size=0.333, shuffle=True)\n",
    "    predictions = model_bow.predict(X_test)\n",
    "    accuracy = accuracy_score(predictions, Y_test)\n",
    "    accuracies_bow.append(accuracy)\n",
    "\n",
    "fig, ax = plt.subplots(figsize=(10, 5))\n",
    "ax.plot(accuracies_tf_idf, color='orange', label=\"Linear SVM trained on TF-IDF vectorizer\")\n",
    "ax.plot(accuracies_bow,    color='blue',   label=\"Linear SVM trained on Bag-of-words vectorizer\")\n",
    "ax.legend()\n",
    "plt.show()"
   ]
  },
  {
   "cell_type": "markdown",
   "metadata": {},
   "source": [
    "# V. Models building\n",
    "1. Linear SVM\n",
    "2. Naive Bayes\n",
    "3. XGBoost"
   ]
  },
  {
   "cell_type": "code",
   "execution_count": 9,
   "metadata": {},
   "outputs": [],
   "source": [
    "# Choosing TF-IDF as the default feature set\n",
    "features = features_tf_idf\n",
    "X_train, X_test, Y_train, Y_test = train_test_split(features, targets, test_size=0.333, random_state=40000)"
   ]
  },
  {
   "cell_type": "markdown",
   "metadata": {},
   "source": [
    "## 1. Linear SVM"
   ]
  },
  {
   "cell_type": "code",
   "execution_count": 10,
   "metadata": {},
   "outputs": [
    {
     "name": "stdout",
     "output_type": "stream",
     "text": [
      "[INFO] Linear SVM accuracy : 0.9329819277108434, F1 score : 0.9347794225414041\n"
     ]
    }
   ],
   "source": [
    "model = SVC(kernel='linear', C=1.0)\n",
    "model.fit(X_train, Y_train)\n",
    "predictions = model.predict(X_test)\n",
    "\n",
    "accuracy = accuracy_score(predictions, Y_test)\n",
    "f1       = f1_score(predictions, Y_test)\n",
    "\n",
    "print(f'[INFO] Linear SVM accuracy : {accuracy}, F1 score : {f1}')"
   ]
  },
  {
   "cell_type": "code",
   "execution_count": 12,
   "metadata": {},
   "outputs": [
    {
     "name": "stdout",
     "output_type": "stream",
     "text": [
      "[INFO] RBF Kernel SVM accuracy : 0.9367469879518072, F1 score : 0.9386861313868614\n"
     ]
    }
   ],
   "source": [
    "# Bonus : rbf kernel SVM - slightly better\n",
    "model = SVC(kernel='rbf', C=1.0)\n",
    "model.fit(X_train, Y_train)\n",
    "predictions = model.predict(X_test)\n",
    "\n",
    "accuracy = accuracy_score(predictions, Y_test)\n",
    "f1       = f1_score(predictions, Y_test)\n",
    "\n",
    "print(f'[INFO] RBF Kernel SVM accuracy : {accuracy}, F1 score : {f1}')"
   ]
  },
  {
   "cell_type": "markdown",
   "metadata": {},
   "source": [
    "## 2. Naive Bayes"
   ]
  },
  {
   "cell_type": "code",
   "execution_count": 14,
   "metadata": {},
   "outputs": [
    {
     "name": "stdout",
     "output_type": "stream",
     "text": [
      "[INFO] Naive Bayes accuracy : 0.8314759036144578, F1 score : 0.8418374558303887\n"
     ]
    }
   ],
   "source": [
    "model = GaussianNB()\n",
    "model.fit(X_train.toarray(), Y_train)\n",
    "predictions = model.predict(X_test.toarray())\n",
    "\n",
    "accuracy = accuracy_score(predictions, Y_test)\n",
    "f1       = f1_score(predictions, Y_test)\n",
    "\n",
    "print(f'[INFO] Naive Bayes accuracy : {accuracy}, F1 score : {f1}')"
   ]
  },
  {
   "cell_type": "markdown",
   "metadata": {},
   "source": [
    "## 3. XGBoost"
   ]
  },
  {
   "cell_type": "code",
   "execution_count": 16,
   "metadata": {},
   "outputs": [
    {
     "name": "stdout",
     "output_type": "stream",
     "text": [
      "[INFO] XGBoost accuracy : 0.9027108433734939, F1 score : 0.9086021505376344\n"
     ]
    }
   ],
   "source": [
    "model = XGBClassifier(eval_metric='rmse', use_label_encoder=False)\n",
    "model.fit(X_train.toarray(), Y_train)\n",
    "predictions = model.predict(X_test.toarray())\n",
    "\n",
    "accuracy = accuracy_score(predictions, Y_test)\n",
    "f1       = f1_score(predictions, Y_test)\n",
    "\n",
    "print(f'[INFO] XGBoost accuracy : {accuracy}, F1 score : {f1}')"
   ]
  },
  {
   "cell_type": "markdown",
   "metadata": {},
   "source": [
    "## 4. Bonus : Neural network + SVM"
   ]
  },
  {
   "cell_type": "code",
   "execution_count": null,
   "metadata": {},
   "outputs": [],
   "source": [
    "from tensorflow.keras"
   ]
  }
 ],
 "metadata": {
  "kernelspec": {
   "display_name": "Python 3",
   "language": "python",
   "name": "python3"
  },
  "language_info": {
   "codemirror_mode": {
    "name": "ipython",
    "version": 3
   },
   "file_extension": ".py",
   "mimetype": "text/x-python",
   "name": "python",
   "nbconvert_exporter": "python",
   "pygments_lexer": "ipython3",
   "version": "3.8.5"
  }
 },
 "nbformat": 4,
 "nbformat_minor": 5
}
